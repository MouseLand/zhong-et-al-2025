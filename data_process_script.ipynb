{
 "cells": [
  {
   "cell_type": "code",
   "execution_count": 1,
   "id": "7f0ebf50",
   "metadata": {},
   "outputs": [
    {
     "name": "stderr",
     "output_type": "stream",
     "text": [
      "<>:6: SyntaxWarning: invalid escape sequence '\\I'\n",
      "<>:6: SyntaxWarning: invalid escape sequence '\\I'\n",
      "C:\\Users\\zhongl\\AppData\\Local\\Temp\\ipykernel_8340\\772297861.py:6: SyntaxWarning: invalid escape sequence '\\I'\n",
      "  exp_info = np.load(os.path.join(root, 'beh\\Imaging_Exp_info.npy'), allow_pickle=1).item()\n"
     ]
    },
    {
     "data": {
      "text/plain": [
       "dict_keys(['unsup_train1_before_learning', 'unsup_train1_after_learning', 'sup_train1_before_learning', 'sup_train1_after_learning', 'unsup_test1', 'sup_test1', 'naive_test1', 'unsup_test2', 'sup_test2', 'naive_test2', 'unsup_test3', 'sup_test3', 'naive_test3', 'unsup_train2_FineDiscr', 'sup_train2_FineDiscr', 'train1_before_grating', 'train1_after_grating', 'test1_before_grating', 'test1_after_grating', 'test2_before_grating', 'test2_after_grating'])"
      ]
     },
     "execution_count": 1,
     "metadata": {},
     "output_type": "execute_result"
    }
   ],
   "source": [
    "import os\n",
    "import utils\n",
    "import numpy as np\n",
    "root = r'D:\\Results\\Zhong-et-al-2025'\n",
    "\n",
    "exp_info = np.load(os.path.join(root, 'beh\\Imaging_Exp_info.npy'), allow_pickle=1).item()\n",
    "exp_info.keys()"
   ]
  },
  {
   "cell_type": "markdown",
   "id": "09cb06c2",
   "metadata": {},
   "source": [
    "# Get selective index (dprime) for stimulus-selective neurons"
   ]
  },
  {
   "cell_type": "code",
   "execution_count": 7,
   "id": "162d04e0",
   "metadata": {},
   "outputs": [
    {
     "name": "stdout",
     "output_type": "stream",
     "text": [
      "0 is finished\n",
      "1 is finished\n",
      "2 is finished\n",
      "3 is finished\n",
      "4 is finished\n"
     ]
    }
   ],
   "source": [
    "\n",
    "exp_type = 'train1_after_grating' # type of experiment\n",
    "\n",
    "db = exp_info[exp_type] # get experiment information\n",
    "\n",
    "# load behavior\n",
    "Beh = np.load(os.path.join(root, 'beh', 'Beh_'+ exp_type+ '.npy'), allow_pickle=1).item()\n",
    "\n",
    "# get dprime\n",
    "all_dat = utils.Get_dprime_selective_neuron(db, Beh, stim_ID=[2, 0], root=root)\n",
    "\n",
    "# save the dprime\n",
    "fn = exp_type+'_dprime.npy'\n",
    "np.save(os.path.join(root, 'process_data', fn), all_dat)"
   ]
  },
  {
   "cell_type": "markdown",
   "id": "044100c6",
   "metadata": {},
   "source": [
    "# Get density map of selective neurons "
   ]
  },
  {
   "cell_type": "code",
   "execution_count": 5,
   "id": "65535cc8",
   "metadata": {},
   "outputs": [
    {
     "name": "stdout",
     "output_type": "stream",
     "text": [
      "done\n"
     ]
    }
   ],
   "source": [
    "root = r'D:\\Results\\Zhong-et-al-2025'\n",
    "fn = 'sup_train1_before_learning_dprime.npy'\n",
    "\n",
    "# load saved dprime\n",
    "dprimes = np.load(os.path.join(root, 'process_data', fn), allow_pickle=1).item()\n",
    "dprime, retinotopy = dprimes['dprime'], dprimes['retinotopy']\n",
    "\n",
    "# get density map\n",
    "sel_map = utils.Get_density_map(dprime, retinotopy, dp_thr=0.3)\n",
    "np.save(os.path.join(root, 'process_data', fn.split('.')[0] + '_distribution.npy'), sel_map)\n",
    "print('done')"
   ]
  },
  {
   "cell_type": "markdown",
   "id": "8bc02036",
   "metadata": {},
   "source": [
    "# Get fraction of stimulus selective neurons above thresholds"
   ]
  },
  {
   "cell_type": "code",
   "execution_count": 9,
   "id": "953b1211",
   "metadata": {},
   "outputs": [],
   "source": [
    "root = r'D:\\Results\\Zhong-et-al-2025'\n",
    "fn = 'train1_after_grating_dprime.npy'\n",
    "\n",
    "# load saved dprime\n",
    "dprimes = np.load(os.path.join(root, 'process_data', fn), allow_pickle=1).item()\n",
    "dprime, retinotopy = dprimes['dprime'], dprimes['retinotopy']\n",
    "\n",
    "frac = utils.Get_selective_neuron_fraction_with_dprime(dprime, retinotopy)\n",
    "\n",
    "# save the fraction of selective neurons \n",
    "save_fn = fn.split('.')[0] + '_frac.npy'\n",
    "np.save(os.path.join(root, 'process_data', save_fn), frac)"
   ]
  },
  {
   "cell_type": "markdown",
   "id": "8d01c9be",
   "metadata": {},
   "source": [
    "# Get fraction of reward prediciton neurons above thresholds"
   ]
  },
  {
   "cell_type": "code",
   "execution_count": 4,
   "id": "cd2fdc4a",
   "metadata": {},
   "outputs": [
    {
     "name": "stdout",
     "output_type": "stream",
     "text": [
      "{'sess#': 1, 'mname': 'VR2', 'datexp': '2021_04_06', 'blk': '1', 'is2p': 1, 'ROIdir': [], 'rewType': 'Passive', 'Note': '1-no cue in non-reward corridor', 'exptype': 'sup', 'artLick': 1, 'isDR': 0, 'stim_id': array([0, 2]), 'Gender': 'Male'}\n",
      "load interpolation spk..\n",
      "{'sess#': 1, 'mname': 'TX60', 'datexp': '2021_05_04', 'blk': '1', 'is2p': 1, 'ROIdir': [], 'rewType': 'Passive', 'exptype': 'sup', 'artLick': 1, 'isDR': 0, 'stim_id': array([0, 2]), 'Gender': 'Female'}\n",
      "load interpolation spk..\n",
      "{'sess#': 1, 'mname': 'TX108', 'datexp': '2023_03_22', 'blk': '1', 'is2p': 1, 'ROIdir': [], 'rewType': 'active after cue', 'exptype': 'sup', 'isDR': 0, 'stim_id': array([0, 2]), 'Gender': 'Male'}\n",
      "load interpolation spk..\n",
      "{'sess#': 1, 'mname': 'TX109', 'datexp': '2023_04_07', 'blk': '1', 'is2p': 1, 'ROIdir': [], 'rewType': 'active after cue', 'exptype': 'sup', 'isDR': 0, 'stim_id': array([2, 0]), 'Gender': 'Male'}\n",
      "load interpolation spk..\n"
     ]
    }
   ],
   "source": [
    "exp_type = 'sup_train1_after_learning' # type of experiment\n",
    "\n",
    "db = exp_info[exp_type] # get experiment information\n",
    "\n",
    "root = r'D:\\Results\\Zhong-et-al-2025'\n",
    "fn = '%s_dprime.npy'%(exp_type)\n",
    "\n",
    "# load behavior\n",
    "Beh = np.load(os.path.join(root, 'beh', 'Beh_'+ exp_type+ '.npy'), allow_pickle=1).item()\n",
    "# load saved stimulus selective dprime\n",
    "dprimes = np.load(os.path.join(root, 'process_data', fn), allow_pickle=1).item()\n",
    "\n",
    "frac = utils.Get_dprime_rewPred_neuron(db, Beh, dprimes, root=root, \n",
    "                              load_save_interp_spk=1, interp_spk_path=os.path.join(root, 'process_data'),\n",
    "                             dp_thrs=[0.3])\n",
    "\n",
    "# save the fraction of reward prediciton neurons \n",
    "save_fn = '%s_rew_frac.npy'%(exp_type)\n",
    "np.save(os.path.join(root, 'process_data', save_fn), frac)"
   ]
  },
  {
   "cell_type": "markdown",
   "id": "91dffb6f",
   "metadata": {},
   "source": [
    "# Save positional interpolation spks\n",
    "### This will take a long time and space, but loading saved spks will save time for other data process"
   ]
  },
  {
   "cell_type": "code",
   "execution_count": 3,
   "id": "1880340a",
   "metadata": {
    "collapsed": true
   },
   "outputs": [
    {
     "name": "stderr",
     "output_type": "stream",
     "text": [
      "<>:2: SyntaxWarning: invalid escape sequence '\\I'\n",
      "<>:2: SyntaxWarning: invalid escape sequence '\\I'\n",
      "C:\\Users\\zhongl\\AppData\\Local\\Temp\\ipykernel_36132\\3060042103.py:2: SyntaxWarning: invalid escape sequence '\\I'\n",
      "  exp_info = np.load(os.path.join(root, 'beh\\Imaging_Exp_info.npy'), allow_pickle=1).item()\n"
     ]
    },
    {
     "name": "stdout",
     "output_type": "stream",
     "text": [
      "10000\n",
      "20000\n",
      "30000\n",
      "40000\n",
      "50000\n",
      "60000\n",
      "70000\n",
      "80000\n",
      "done 1\n",
      "10000\n",
      "20000\n",
      "30000\n",
      "40000\n",
      "50000\n",
      "60000\n",
      "done 2\n",
      "10000\n",
      "20000\n",
      "30000\n",
      "40000\n",
      "50000\n",
      "60000\n",
      "70000\n",
      "80000\n",
      "done 3\n",
      "10000\n",
      "20000\n",
      "30000\n",
      "40000\n",
      "50000\n",
      "60000\n",
      "70000\n",
      "80000\n",
      "90000\n",
      "done 4\n"
     ]
    }
   ],
   "source": [
    "root = r'D:\\Results\\Zhong-et-al-2025'\n",
    "exp_info = np.load(os.path.join(root, 'beh\\Imaging_Exp_info.npy'), allow_pickle=1).item()\n",
    "exp_info.keys()\n",
    "exp_type = 'sup_train1_after_learning' # type of experiment\n",
    "\n",
    "Beh = np.load(os.path.join(root, 'beh', 'Beh_'+ exp_type+ '.npy'), allow_pickle=1).item()\n",
    "\n",
    "db = exp_info[exp_type] # get experiment information\n",
    "n = 1\n",
    "for ndb in db:\n",
    "    kn = '%s_%s_%s'%(ndb['mname'], ndb['datexp'], ndb['blk'])\n",
    "    beh = Beh[kn]\n",
    "    \n",
    "    spk = utils.load_spk(ndb, root=os.path.join(root, 'spk'))\n",
    "    nneu, nfr = spk.shape  \n",
    "\n",
    "    ntrials, CL = beh['ntrials'], beh['Corridor_Length']    \n",
    "    VRmove = beh['ft_move'][:nfr]>0\n",
    "    ft_AcumPos = beh['ft_PosCum'][:nfr]\n",
    "    \n",
    "    save_name = os.path.join(root, 'process_data', '%s_%s_%s_interpolate_spk.npy'%(ndb['mname'], ndb['datexp'], ndb['blk']))\n",
    "    utils.get_interpPos_spk(spk[:, VRmove], ft_AcumPos[VRmove], ntrials, n_bins=60, \n",
    "                            lengths=CL, save_path=save_name)\n",
    "    print('done %d'%(n))\n",
    "    n += 1"
   ]
  },
  {
   "cell_type": "markdown",
   "id": "2618d7bc",
   "metadata": {},
   "source": [
    "# Get coding direction"
   ]
  },
  {
   "cell_type": "code",
   "execution_count": null,
   "id": "8534b6c3",
   "metadata": {},
   "outputs": [],
   "source": [
    "root = r'D:\\Results\\Zhong-et-al-2025'\n",
    "exp_info = np.load(os.path.join(root, 'beh\\Imaging_Exp_info.npy'), allow_pickle=1).item()\n",
    "exp_info.keys()\n",
    "exp_type = 'sup_test1' # type of experiment\n",
    "db = exp_info[exp_type] # get experiment information\n",
    "\n",
    "stim1, stim2 = 2, 0 # 'circle1':0, 'circle2':1, 'leaf1':2, 'leaf2':3\n",
    "\n",
    "Beh = np.load(os.path.join(root, 'beh', 'Beh_'+ exp_type+ '.npy'), allow_pickle=1).item()\n",
    "dat = utils.Get_coding_direction(db, Beh, stim_ref=[stim1, stim2], prc=5, root=root, \n",
    "                            load_save_interp_spk=1, interp_spk_path=os.path.join(root, 'process_data'), n_bef=10)\n",
    "\n",
    "save_fn = '%s_coding_direction.npy'%(exp_type)\n",
    "np.save(os.path.join(root, 'process_data', save_fn), dat)\n"
   ]
  },
  {
   "cell_type": "markdown",
   "id": "cff09329",
   "metadata": {},
   "source": [
    "# Get sorted spikes with train and test for cross validation"
   ]
  },
  {
   "cell_type": "code",
   "execution_count": null,
   "id": "88a0d937",
   "metadata": {},
   "outputs": [],
   "source": [
    "# use 1/2 of trials (train) for getting dprime to define stimulus selective neurons;\n",
    "# from the rest 1/2 trials, use half (tes1, 1/4 of total trials) to get and sort the peak positions\n",
    "# sort the last 1/4 trials (test2) by the sorted index from test1\n",
    "root = r'D:\\Results\\Zhong-et-al-2025'\n",
    "exp_info = np.load(os.path.join(root, 'beh\\Imaging_Exp_info.npy'), allow_pickle=1).item()\n",
    "exp_info.keys()\n",
    "\n",
    "exp_type = 'sup_test1' # type of experiment\n",
    "db = exp_info[exp_type] # get experiment information\n",
    "\n",
    "stim1, stim2 = 2, 0 # 'circle1':0, 'circle2':1, 'leaf1':2, 'leaf2':3\n",
    "\n",
    "Beh = np.load(os.path.join(root, 'beh', 'Beh_'+ exp_type+ '.npy'), allow_pickle=1).item()\n",
    "dat = utils.Get_sort_spk(db, Beh, stim_ref=[2, 0], prc=5, root=root, \n",
    "                            load_save_interp_spk=1, interp_spk_path=os.path.join(root, 'process_data'))\n",
    "\n",
    "save_fn = '%s_sort_spk.npy'%(exp_type)\n",
    "np.save(os.path.join(root, 'process_data', save_fn), dat)"
   ]
  },
  {
   "cell_type": "markdown",
   "id": "2d0afdc5",
   "metadata": {},
   "source": [
    "# Get stimulus selective neurons\n",
    "## 1. Use 1/2 of trials (train) for getting dprime to define stimulus selective neurons;\n",
    "## 2. Return the activity of other 1/2 of trials (test) "
   ]
  },
  {
   "cell_type": "code",
   "execution_count": 3,
   "id": "b267f4fd",
   "metadata": {},
   "outputs": [
    {
     "name": "stderr",
     "output_type": "stream",
     "text": [
      "<>:2: SyntaxWarning: invalid escape sequence '\\I'\n",
      "<>:2: SyntaxWarning: invalid escape sequence '\\I'\n",
      "C:\\Users\\zhongl\\AppData\\Local\\Temp\\ipykernel_8340\\3334289011.py:2: SyntaxWarning: invalid escape sequence '\\I'\n",
      "  exp_info = np.load(os.path.join(root, 'beh\\Imaging_Exp_info.npy'), allow_pickle=1).item()\n"
     ]
    },
    {
     "name": "stdout",
     "output_type": "stream",
     "text": [
      "done loading spk..\n",
      "load interpolation spk..\n",
      "done loading interpolated spk..\n"
     ]
    }
   ],
   "source": [
    "root = r'D:\\Results\\Zhong-et-al-2025'\n",
    "exp_info = np.load(os.path.join(root, 'beh\\Imaging_Exp_info.npy'), allow_pickle=1).item()\n",
    "exp_info.keys()\n",
    "\n",
    "exp_type = 'sup_train1_after_learning' # type of experiment\n",
    "db = exp_info[exp_type] # get experiment information\n",
    "ndb = db[2]\n",
    "ndb\n",
    "\n",
    "Beh = np.load(os.path.join(root, 'beh', 'Beh_'+ exp_type+ '.npy'), allow_pickle=1).item()\n",
    "dat = utils.get_stimNeu_and_sorted(ndb, Beh['%s_%s_%s'%(ndb['mname'], ndb['datexp'], ndb['blk'])], \n",
    "                             stim_ref=[2, 0], thr=0.3, root=root, load_save_interp_spk=1)\n",
    "save_fn = '%s_%s_%s_stimSelNeu_sorted.npy'%(ndb['mname'], ndb['datexp'], ndb['blk'])\n",
    "np.save(os.path.join(root, 'process_data', save_fn), dat)"
   ]
  }
 ],
 "metadata": {
  "kernelspec": {
   "display_name": "Python 3 (ipykernel)",
   "language": "python",
   "name": "python3"
  },
  "language_info": {
   "codemirror_mode": {
    "name": "ipython",
    "version": 3
   },
   "file_extension": ".py",
   "mimetype": "text/x-python",
   "name": "python",
   "nbconvert_exporter": "python",
   "pygments_lexer": "ipython3",
   "version": "3.12.8"
  }
 },
 "nbformat": 4,
 "nbformat_minor": 5
}
