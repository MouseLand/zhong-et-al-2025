{
 "cells": [
  {
   "cell_type": "code",
   "execution_count": 1,
   "id": "7f0ebf50",
   "metadata": {},
   "outputs": [
    {
     "data": {
      "text/plain": [
       "dict_keys(['unsup_train1_before_learning', 'unsup_train1_after_learning', 'sup_train1_before_learning', 'sup_train1_after_learning', 'unsup_test1', 'sup_test1', 'naive_test1', 'unsup_test2', 'sup_test2', 'naive_test2', 'unsup_test3', 'sup_test3', 'naive_test3', 'unsup_train2_before_learning', 'sup_train2_before_learning', 'unsup_train2_after_learning', 'sup_train2_after_learning', 'train1_before_grating', 'train1_after_grating', 'test1_before_grating', 'test1_after_grating', 'test2_before_grating', 'test2_after_grating'])"
      ]
     },
     "execution_count": 1,
     "metadata": {},
     "output_type": "execute_result"
    }
   ],
   "source": [
    "import os\n",
    "import utils\n",
    "import numpy as np\n",
    "root = r'D:\\Results\\Zhong-et-al-2025'\n",
    "\n",
    "exp_info = np.load(os.path.join(root, r'beh\\Imaging_Exp_info.npy'), allow_pickle=1).item()\n",
    "exp_info.keys()"
   ]
  },
  {
   "cell_type": "markdown",
   "id": "7b339799",
   "metadata": {},
   "source": [
    "# Example mouse lick raster for before and after learning"
   ]
  },
  {
   "cell_type": "code",
   "execution_count": null,
   "id": "d0823389",
   "metadata": {},
   "outputs": [],
   "source": [
    "db = []\n",
    "db.append(exp_inf.learning(mname='TX109')[0])\n",
    "db.append(exp_inf.learning(mname='TX109')[-2])\n",
    "db = np.array(db)\n",
    "\n",
    "\n",
    "fn = 'example_bef_and_aft_learning_behavior.npy'\n",
    "beh = get_behavior_object(db, is_imaging=0)\n",
    "np.save(os.path.join(savePath, fn), beh)\n",
    "print('Saving %s'%fn)"
   ]
  },
  {
   "cell_type": "markdown",
   "id": "09cb06c2",
   "metadata": {},
   "source": [
    "# Get selective index (dprime) for stimulus-selective neurons"
   ]
  },
  {
   "cell_type": "code",
   "execution_count": 2,
   "id": "162d04e0",
   "metadata": {},
   "outputs": [
    {
     "name": "stdout",
     "output_type": "stream",
     "text": [
      "0 is finished\n",
      "1 is finished\n",
      "2 is finished\n",
      "3 is finished\n",
      "4 is finished\n",
      "test1_after_grating_leaf1_leaf2_dprime.npy\n"
     ]
    }
   ],
   "source": [
    "exp_type = 'test1_after_grating' # type of experiment\n",
    "\n",
    "stim_ID=[2, 3] # choose  \n",
    "stim = ['circle1', 'circle2', 'leaf1', 'leaf2', 'leaf3']\n",
    "\n",
    "db = exp_info[exp_type] # get experiment information\n",
    "\n",
    "# load behavior\n",
    "Beh = np.load(os.path.join(root, 'beh', 'Beh_'+ exp_type+ '.npy'), allow_pickle=1).item()\n",
    "\n",
    "# get dprime\n",
    "all_dat = utils.Get_dprime_selective_neuron(db, Beh, stim_ID=stim_ID, root=root)\n",
    "\n",
    "# save the dprime\n",
    "fn = '%s_%s_%s_dprime.npy'%(exp_type, stim[stim_ID[0]], stim[stim_ID[1]])\n",
    "np.save(os.path.join(root, 'process_data', fn), all_dat)\n",
    "print(fn)"
   ]
  },
  {
   "cell_type": "markdown",
   "id": "044100c6",
   "metadata": {},
   "source": [
    "# Get density map of selective neurons "
   ]
  },
  {
   "cell_type": "code",
   "execution_count": 3,
   "id": "65535cc8",
   "metadata": {},
   "outputs": [
    {
     "name": "stdout",
     "output_type": "stream",
     "text": [
      "test1_after_grating_leaf1_leaf2_dprime_distribution.npy\n"
     ]
    },
    {
     "name": "stderr",
     "output_type": "stream",
     "text": [
      "D:\\Codes\\zhong-et-al-2025\\utils.py:321: RuntimeWarning: Mean of empty slice\n",
      "  img = np.nanmean(np.array(img),axis=0) # mean across mice\n"
     ]
    }
   ],
   "source": [
    "# exp_type = 'unsup_train2_FineDiscr_before' # type of experiment\n",
    "\n",
    "# stim_ID=[3, 0] # choose stimuli: ['circle1', 'circle2', 'leaf1', 'leaf2', 'leaf3'] \n",
    "\n",
    "typ = 'both' # 'both', 'stim1' or 'stim2'\n",
    "\n",
    "\n",
    "stim = ['circle1', 'circle2', 'leaf1', 'leaf2', 'leaf3']\n",
    "fn = '%s_%s_%s_dprime.npy'%(exp_type, stim[stim_ID[0]], stim[stim_ID[1]])\n",
    "# load saved dprime\n",
    "dprimes = np.load(os.path.join(root, 'process_data', fn), allow_pickle=1).item()\n",
    "dprime, retinotopy = dprimes['dprime'], dprimes['retinotopy']\n",
    "\n",
    "# get density map\n",
    "sel_map = utils.Get_density_map(dprime, retinotopy, dp_thr=0.3, typ=typ)\n",
    "if typ=='stim1':\n",
    "    saveN = fn.split('.')[0] + '_%s_distribution.npy'%(stim[stim_ID[0]])\n",
    "elif typ=='stim2':\n",
    "    saveN = fn.split('.')[0] + '_%s_distribution.npy'%(stim[stim_ID[1]])\n",
    "else:\n",
    "    saveN = fn.split('.')[0] + '_distribution.npy'\n",
    "np.save(os.path.join(root, 'process_data', saveN), sel_map)\n",
    "print(saveN)"
   ]
  },
  {
   "cell_type": "markdown",
   "id": "8bc02036",
   "metadata": {},
   "source": [
    "# Get fraction of stimulus selective neurons above thresholds"
   ]
  },
  {
   "cell_type": "code",
   "execution_count": 4,
   "id": "953b1211",
   "metadata": {},
   "outputs": [
    {
     "name": "stdout",
     "output_type": "stream",
     "text": [
      "test1_after_grating_leaf1_leaf2_dprime_frac.npy\n"
     ]
    }
   ],
   "source": [
    "# exp_type = 'unsup_train2_FineDiscr_before' # type of experiment\n",
    "\n",
    "# stim_ID=[3, 0] # choose stimuli: ['circle1', 'circle2', 'leaf1', 'leaf2', 'leaf3'] \n",
    "\n",
    "\n",
    "stim = ['circle1', 'circle2', 'leaf1', 'leaf2', 'leaf3']\n",
    "fn = '%s_%s_%s_dprime.npy'%(exp_type, stim[stim_ID[0]], stim[stim_ID[1]])\n",
    "# load saved dprime\n",
    "dprimes = np.load(os.path.join(root, 'process_data', fn), allow_pickle=1).item()\n",
    "dprime, retinotopy = dprimes['dprime'], dprimes['retinotopy']\n",
    "\n",
    "frac = utils.Get_selective_neuron_fraction_with_dprime(dprime, retinotopy)\n",
    "\n",
    "# save the fraction of selective neurons \n",
    "saveN = fn.split('.')[0] + '_frac.npy'\n",
    "np.save(os.path.join(root, 'process_data', saveN), frac)\n",
    "print(saveN)"
   ]
  },
  {
   "cell_type": "markdown",
   "id": "8d01c9be",
   "metadata": {},
   "source": [
    "# Get fraction and distribution of reward prediciton neurons above thresholds"
   ]
  },
  {
   "cell_type": "code",
   "execution_count": 3,
   "id": "cd2fdc4a",
   "metadata": {},
   "outputs": [
    {
     "name": "stdout",
     "output_type": "stream",
     "text": [
      "{'sess#': 1, 'mname': 'VR2', 'datexp': '2021_04_06', 'blk': '1', 'is2p': 1, 'ROIdir': [], 'rewType': 'Passive', 'Note': '1-no cue in non-reward corridor', 'exptype': 'sup', 'artLick': 1, 'isDR': 0, 'stim_id': array([0, 2]), 'Gender': 'Male'}\n",
      "load interpolated spk..\n",
      "{'sess#': 1, 'mname': 'TX60', 'datexp': '2021_05_04', 'blk': '1', 'is2p': 1, 'ROIdir': [], 'rewType': 'Passive', 'exptype': 'sup', 'artLick': 1, 'isDR': 0, 'stim_id': array([0, 2]), 'Gender': 'Female'}\n",
      "load interpolated spk..\n",
      "{'sess#': 1, 'mname': 'TX108', 'datexp': '2023_03_22', 'blk': '1', 'is2p': 1, 'ROIdir': [], 'rewType': 'active after cue', 'exptype': 'sup', 'isDR': 0, 'stim_id': array([0, 2]), 'Gender': 'Male'}\n",
      "load interpolated spk..\n",
      "{'sess#': 1, 'mname': 'TX109', 'datexp': '2023_04_07', 'blk': '1', 'is2p': 1, 'ROIdir': [], 'rewType': 'active after cue', 'exptype': 'sup', 'isDR': 0, 'stim_id': array([2, 0]), 'Gender': 'Male'}\n",
      "load interpolated spk..\n"
     ]
    }
   ],
   "source": [
    "exp_type = 'sup_train1_after_learning' # type of experiment\n",
    "\n",
    "db = exp_info[exp_type] # get experiment information\n",
    "\n",
    "root = r'D:\\Results\\Zhong-et-al-2025'\n",
    "fn = '%s_leaf1_circle1_dprime.npy'%(exp_type)\n",
    "\n",
    "# load behavior\n",
    "Beh = np.load(os.path.join(root, 'beh', 'Beh_'+ exp_type+ '.npy'), allow_pickle=1).item()\n",
    "# load saved stimulus selective dprime\n",
    "dprimes = np.load(os.path.join(root, 'process_data', fn), allow_pickle=1).item()\n",
    "\n",
    "frac, imgs = utils.Get_dprime_rewPred_neuron(db, Beh, dprimes, root=root, \n",
    "                              load_save_interp_spk=1, interp_spk_path=os.path.join(root, 'process_data'),\n",
    "                             dp_thr=0.3)\n",
    "\n",
    "# save the fraction of reward prediciton neurons \n",
    "save_fn0 = '%s_rew_frac.npy'%(exp_type)\n",
    "np.save(os.path.join(root, 'process_data', save_fn0), frac)\n",
    "save_fn1 = '%s_rew_distribution.npy'%(exp_type)\n",
    "np.save(os.path.join(root, 'process_data', save_fn1), imgs)"
   ]
  },
  {
   "cell_type": "markdown",
   "id": "91dffb6f",
   "metadata": {},
   "source": [
    "# Save positional interpolation spks\n",
    "### This will take a long time and space, but loading saved spks will save time for other data process"
   ]
  },
  {
   "cell_type": "code",
   "execution_count": 3,
   "id": "1880340a",
   "metadata": {},
   "outputs": [
    {
     "name": "stderr",
     "output_type": "stream",
     "text": [
      "<>:2: SyntaxWarning: invalid escape sequence '\\I'\n",
      "<>:2: SyntaxWarning: invalid escape sequence '\\I'\n",
      "C:\\Users\\zhongl\\AppData\\Local\\Temp\\ipykernel_29840\\4158800547.py:2: SyntaxWarning: invalid escape sequence '\\I'\n",
      "  exp_info = np.load(os.path.join(root, 'beh\\Imaging_Exp_info.npy'), allow_pickle=1).item()\n"
     ]
    },
    {
     "name": "stdout",
     "output_type": "stream",
     "text": [
      "File has been created\n",
      "done 1\n",
      "File has been created\n",
      "done 2\n",
      "10000\n",
      "20000\n",
      "30000\n",
      "40000\n",
      "50000\n",
      "60000\n",
      "done 3\n",
      "File has been created\n",
      "done 4\n",
      "File has been created\n",
      "done 5\n",
      "File has been created\n",
      "done 6\n",
      "File has been created\n",
      "done 7\n",
      "File has been created\n",
      "done 8\n",
      "File has been created\n",
      "done 9\n"
     ]
    }
   ],
   "source": [
    "root = r'D:\\Results\\Zhong-et-al-2025'\n",
    "exp_info = np.load(os.path.join(root, 'beh\\Imaging_Exp_info.npy'), allow_pickle=1).item()\n",
    "exp_info.keys()\n",
    "exp_type = 'unsup_train1_after_learning' # type of experiment\n",
    "\n",
    "Beh = np.load(os.path.join(root, 'beh', 'Beh_'+ exp_type+ '.npy'), allow_pickle=1).item()\n",
    "\n",
    "db = exp_info[exp_type] # get experiment information\n",
    "n = 1\n",
    "for ndb in db:\n",
    "    if 'stimtype' in ndb.keys():\n",
    "        kn = '%s_%s_%s_%s'%(ndb['mname'], ndb['datexp'], ndb['blk'], ndb['stimtype'])\n",
    "    else:\n",
    "        kn = '%s_%s_%s'%(ndb['mname'], ndb['datexp'], ndb['blk'])\n",
    "    save_name = os.path.join(root, 'process_data', '%s_%s_%s_interpolate_spk.npy'%(ndb['mname'], ndb['datexp'], ndb['blk']))\n",
    "    if os.path.exists(save_name):\n",
    "        print(\"File has been created\")\n",
    "    else:    \n",
    "        beh = Beh[kn]\n",
    "\n",
    "        spk = utils.load_spk(ndb, root=os.path.join(root, 'spk'))\n",
    "        nneu, nfr = spk.shape  \n",
    "\n",
    "        ntrials, CL = beh['ntrials'], beh['Corridor_Length']    \n",
    "        VRmove = beh['ft_move'][:nfr]>0\n",
    "        ft_AcumPos = beh['ft_PosCum'][:nfr]\n",
    "\n",
    "        utils.get_interpPos_spk(spk[:, VRmove], ft_AcumPos[VRmove], ntrials, n_bins=60, \n",
    "                                lengths=CL, save_path=save_name)\n",
    "    print('done %d'%(n))\n",
    "    n += 1"
   ]
  },
  {
   "cell_type": "markdown",
   "id": "2618d7bc",
   "metadata": {},
   "source": [
    "# Get coding direction"
   ]
  },
  {
   "cell_type": "code",
   "execution_count": 2,
   "id": "8534b6c3",
   "metadata": {},
   "outputs": [
    {
     "name": "stderr",
     "output_type": "stream",
     "text": [
      "<>:2: SyntaxWarning: invalid escape sequence '\\I'\n",
      "<>:2: SyntaxWarning: invalid escape sequence '\\I'\n",
      "C:\\Users\\zhongl\\AppData\\Local\\Temp\\ipykernel_21032\\3053096910.py:2: SyntaxWarning: invalid escape sequence '\\I'\n",
      "  exp_info = np.load(os.path.join(root, 'beh\\Imaging_Exp_info.npy'), allow_pickle=1).item()\n"
     ]
    },
    {
     "name": "stdout",
     "output_type": "stream",
     "text": [
      "load interpolated spk..\n",
      "done normalization..\n",
      "0\n",
      "load interpolated spk..\n",
      "done normalization..\n",
      "1\n",
      "load interpolated spk..\n",
      "done normalization..\n",
      "2\n",
      "load interpolated spk..\n",
      "done normalization..\n",
      "3\n",
      "load interpolated spk..\n",
      "done normalization..\n",
      "4\n"
     ]
    }
   ],
   "source": [
    "root = r'D:\\Results\\Zhong-et-al-2025'\n",
    "exp_info = np.load(os.path.join(root, 'beh\\Imaging_Exp_info.npy'), allow_pickle=1).item()\n",
    "exp_info.keys()\n",
    "exp_type = 'test2_after_grating' # type of experiment\n",
    "db = exp_info[exp_type] # get experiment information\n",
    "\n",
    "stim1, stim2 = 2, 3 # 'circle1':0, 'circle2':1, 'leaf1':2, 'leaf2':3\n",
    "\n",
    "Beh = np.load(os.path.join(root, 'beh', 'Beh_'+ exp_type+ '.npy'), allow_pickle=1).item()\n",
    "dat = utils.Get_coding_direction(db, Beh, stim_ref=[stim1, stim2], prc=5, root=root, \n",
    "                            load_save_interp_spk=1, interp_spk_path=os.path.join(root, 'process_data'), n_bef=10)\n",
    "\n",
    "save_fn = '%s_coding_direction.npy'%(exp_type)\n",
    "np.save(os.path.join(root, 'process_data', save_fn), dat)\n"
   ]
  },
  {
   "cell_type": "markdown",
   "id": "cff09329",
   "metadata": {},
   "source": [
    "# Get sorted spikes with train and test for cross validation"
   ]
  },
  {
   "cell_type": "code",
   "execution_count": 3,
   "id": "88a0d937",
   "metadata": {},
   "outputs": [
    {
     "name": "stderr",
     "output_type": "stream",
     "text": [
      "<>:5: SyntaxWarning: invalid escape sequence '\\I'\n",
      "<>:5: SyntaxWarning: invalid escape sequence '\\I'\n",
      "C:\\Users\\zhongl\\AppData\\Local\\Temp\\ipykernel_28564\\3087677136.py:5: SyntaxWarning: invalid escape sequence '\\I'\n",
      "  exp_info = np.load(os.path.join(root, 'beh\\Imaging_Exp_info.npy'), allow_pickle=1).item()\n"
     ]
    },
    {
     "name": "stdout",
     "output_type": "stream",
     "text": [
      "load interpolated spk..\n",
      "done normalization..\n",
      "get dprime!\n"
     ]
    },
    {
     "name": "stderr",
     "output_type": "stream",
     "text": [
      "D:\\Codes\\zhong-et-al-2025\\utils.py:597: RuntimeWarning: Mean of empty slice.\n",
      "  targ_spk = sel_spk[:, tr_idx2].mean(1)\n",
      "C:\\Users\\zhongl\\AppData\\Local\\miniconda3\\Lib\\site-packages\\numpy\\_core\\_methods.py:130: RuntimeWarning: invalid value encountered in divide\n",
      "  ret = um.true_divide(\n"
     ]
    },
    {
     "name": "stdout",
     "output_type": "stream",
     "text": [
      "0\n",
      "load interpolated spk..\n",
      "done normalization..\n",
      "get dprime!\n",
      "1\n",
      "load interpolated spk..\n",
      "done normalization..\n",
      "get dprime!\n",
      "2\n",
      "load interpolated spk..\n",
      "done normalization..\n",
      "get dprime!\n",
      "3\n",
      "load interpolated spk..\n",
      "done normalization..\n",
      "get dprime!\n",
      "4\n",
      "load interpolated spk..\n",
      "done normalization..\n",
      "get dprime!\n",
      "5\n",
      "load interpolated spk..\n",
      "done normalization..\n",
      "get dprime!\n",
      "6\n",
      "load interpolated spk..\n",
      "done normalization..\n",
      "get dprime!\n",
      "7\n",
      "load interpolated spk..\n",
      "done normalization..\n",
      "get dprime!\n",
      "8\n",
      "load interpolated spk..\n",
      "done normalization..\n",
      "get dprime!\n",
      "9\n"
     ]
    }
   ],
   "source": [
    "# use 1/2 of trials (train) for getting dprime to define stimulus selective neurons;\n",
    "# from the rest 1/2 trials, use half (tes1, 1/4 of total trials) to get and sort the peak positions\n",
    "# sort the last 1/4 trials (test2) by the sorted index from test1\n",
    "root = r'D:\\Results\\Zhong-et-al-2025'\n",
    "exp_info = np.load(os.path.join(root, 'beh\\Imaging_Exp_info.npy'), allow_pickle=1).item()\n",
    "exp_info.keys()\n",
    "\n",
    "exp_type = 'naive_test3' # type of experiment\n",
    "db = exp_info[exp_type] # get experiment information\n",
    "\n",
    "stim1, stim2 = 2, 0 # 'circle1':0, 'circle2':1, 'leaf1':2, 'leaf2':3\n",
    "\n",
    "Beh = np.load(os.path.join(root, 'beh', 'Beh_'+ exp_type+ '.npy'), allow_pickle=1).item()\n",
    "dat = utils.Get_sort_spk(db, Beh, stim_ref=[2, 0], prc=5, root=root, \n",
    "                            load_save_interp_spk=1, interp_spk_path=os.path.join(root, 'process_data'))\n",
    "\n",
    "save_fn = '%s_sort_spk.npy'%(exp_type)\n",
    "np.save(os.path.join(root, 'process_data', save_fn), dat)"
   ]
  },
  {
   "cell_type": "markdown",
   "id": "2d0afdc5",
   "metadata": {},
   "source": [
    "# Get stimulus selective neurons\n",
    "## 1. Use 1/2 of trials (train) for getting dprime to define stimulus selective neurons;\n",
    "## 2. Return the activity of other 1/2 of trials (test) "
   ]
  },
  {
   "cell_type": "code",
   "execution_count": 3,
   "id": "b267f4fd",
   "metadata": {},
   "outputs": [
    {
     "name": "stderr",
     "output_type": "stream",
     "text": [
      "<>:2: SyntaxWarning: invalid escape sequence '\\I'\n",
      "<>:2: SyntaxWarning: invalid escape sequence '\\I'\n",
      "C:\\Users\\zhongl\\AppData\\Local\\Temp\\ipykernel_8340\\3334289011.py:2: SyntaxWarning: invalid escape sequence '\\I'\n",
      "  exp_info = np.load(os.path.join(root, 'beh\\Imaging_Exp_info.npy'), allow_pickle=1).item()\n"
     ]
    },
    {
     "name": "stdout",
     "output_type": "stream",
     "text": [
      "done loading spk..\n",
      "load interpolation spk..\n",
      "done loading interpolated spk..\n"
     ]
    }
   ],
   "source": [
    "root = r'D:\\Results\\Zhong-et-al-2025'\n",
    "exp_info = np.load(os.path.join(root, 'beh\\Imaging_Exp_info.npy'), allow_pickle=1).item()\n",
    "exp_info.keys()\n",
    "\n",
    "exp_type = 'sup_train1_after_learning' # type of experiment\n",
    "db = exp_info[exp_type] # get experiment information\n",
    "ndb = db[2]\n",
    "ndb\n",
    "\n",
    "Beh = np.load(os.path.join(root, 'beh', 'Beh_'+ exp_type+ '.npy'), allow_pickle=1).item()\n",
    "dat = utils.get_stimNeu_and_sorted(ndb, Beh['%s_%s_%s'%(ndb['mname'], ndb['datexp'], ndb['blk'])], \n",
    "                             stim_ref=[2, 0], thr=0.3, root=root, load_save_interp_spk=1)\n",
    "save_fn = '%s_%s_%s_stimSelNeu_sorted.npy'%(ndb['mname'], ndb['datexp'], ndb['blk'])\n",
    "np.save(os.path.join(root, 'process_data', save_fn), dat)"
   ]
  },
  {
   "cell_type": "markdown",
   "id": "252ed17e",
   "metadata": {},
   "source": [
    "# Get reward prediction neural activity; 10 folds cross validation"
   ]
  },
  {
   "cell_type": "code",
   "execution_count": 2,
   "id": "474e66f1",
   "metadata": {},
   "outputs": [
    {
     "name": "stdout",
     "output_type": "stream",
     "text": [
      "0 fold, neurons selected: 96\n",
      "1 fold, neurons selected: 112\n",
      "2 fold, neurons selected: 103\n",
      "3 fold, neurons selected: 106\n",
      "4 fold, neurons selected: 109\n",
      "5 fold, neurons selected: 104\n",
      "6 fold, neurons selected: 112\n",
      "7 fold, neurons selected: 99\n",
      "8 fold, neurons selected: 103\n",
      "9 fold, neurons selected: 104\n",
      "0 fold, neurons selected: 47\n",
      "1 fold, neurons selected: 39\n",
      "2 fold, neurons selected: 49\n",
      "3 fold, neurons selected: 52\n",
      "4 fold, neurons selected: 37\n",
      "5 fold, neurons selected: 48\n",
      "6 fold, neurons selected: 47\n",
      "7 fold, neurons selected: 52\n",
      "8 fold, neurons selected: 38\n",
      "9 fold, neurons selected: 44\n",
      "0 fold, neurons selected: 209\n",
      "1 fold, neurons selected: 194\n",
      "2 fold, neurons selected: 197\n",
      "3 fold, neurons selected: 191\n",
      "4 fold, neurons selected: 212\n",
      "5 fold, neurons selected: 197\n",
      "6 fold, neurons selected: 216\n",
      "7 fold, neurons selected: 206\n",
      "8 fold, neurons selected: 206\n",
      "9 fold, neurons selected: 203\n",
      "0 fold, neurons selected: 200\n",
      "1 fold, neurons selected: 209\n",
      "2 fold, neurons selected: 202\n",
      "3 fold, neurons selected: 211\n",
      "4 fold, neurons selected: 208\n",
      "5 fold, neurons selected: 209\n",
      "6 fold, neurons selected: 198\n",
      "7 fold, neurons selected: 212\n",
      "8 fold, neurons selected: 203\n",
      "9 fold, neurons selected: 202\n",
      "0 fold, neurons selected: 98\n",
      "1 fold, neurons selected: 100\n",
      "2 fold, neurons selected: 98\n",
      "3 fold, neurons selected: 116\n",
      "4 fold, neurons selected: 101\n",
      "5 fold, neurons selected: 110\n",
      "6 fold, neurons selected: 105\n",
      "7 fold, neurons selected: 99\n",
      "8 fold, neurons selected: 110\n",
      "9 fold, neurons selected: 97\n"
     ]
    }
   ],
   "source": [
    "exp_type = 'sup_test3' # type of experiment\n",
    "\n",
    "db = exp_info[exp_type] # get experiment information\n",
    "\n",
    "Beh = utils.load_exp_beh(root, exp_type)\n",
    "dat = utils.get_kfold_reward_response(root, db, Beh)\n",
    "\n",
    "save_fn = '%s_reward_response.npy'%(exp_type)\n",
    "np.save(os.path.join(root, 'process_data', save_fn), dat)"
   ]
  },
  {
   "cell_type": "markdown",
   "id": "407daba3",
   "metadata": {},
   "source": [
    "# Get reward prediction neural activity for single neuron"
   ]
  },
  {
   "cell_type": "code",
   "execution_count": 5,
   "id": "0f194d44",
   "metadata": {},
   "outputs": [
    {
     "data": {
      "text/plain": [
       "<module 'utils' from 'D:\\\\Codes\\\\zhong-et-al-2025\\\\utils.py'>"
      ]
     },
     "execution_count": 5,
     "metadata": {},
     "output_type": "execute_result"
    }
   ],
   "source": [
    "from importlib import reload\n",
    "reload(utils)"
   ]
  },
  {
   "cell_type": "code",
   "execution_count": 6,
   "id": "4ef50100",
   "metadata": {},
   "outputs": [
    {
     "name": "stdout",
     "output_type": "stream",
     "text": [
      "{'sess#': 1, 'mname': 'VR2', 'datexp': '2021_04_11', 'blk': '1', 'is2p': 1, 'ROIdir': [], 'rewType': 'Passive', 'artLick': 1, 'exptype': 'sup', 'isDR': 0, 'stim_id': array([0, 1, 2, 3]), 'Gender': 'Male'}\n"
     ]
    }
   ],
   "source": [
    "exp_type = 'sup_test1' # type of experiment\n",
    "db = exp_info[exp_type] # get experiment information\n",
    "db = db[-1]\n",
    "print(db)\n",
    "\n",
    "Beh = utils.load_exp_beh(root, exp_type)\n",
    "dat = utils.get_reward_neuorns(root, db, Beh['%s_%s_%s'%(db['mname'], db['datexp'], db['blk'])])\n",
    "\n",
    "save_fn = 'Example_reward_neurons_in_%s.npy'%(exp_type)\n",
    "np.save(os.path.join(root, 'process_data', save_fn), dat)"
   ]
  }
 ],
 "metadata": {
  "kernelspec": {
   "display_name": "Python 3 (ipykernel)",
   "language": "python",
   "name": "python3"
  },
  "language_info": {
   "codemirror_mode": {
    "name": "ipython",
    "version": 3
   },
   "file_extension": ".py",
   "mimetype": "text/x-python",
   "name": "python",
   "nbconvert_exporter": "python",
   "pygments_lexer": "ipython3",
   "version": "3.12.8"
  }
 },
 "nbformat": 4,
 "nbformat_minor": 5
}
